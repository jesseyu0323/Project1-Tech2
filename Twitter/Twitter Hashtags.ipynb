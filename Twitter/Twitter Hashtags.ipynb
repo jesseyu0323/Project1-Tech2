{
 "cells": [
  {
   "cell_type": "code",
   "execution_count": 8,
   "metadata": {},
   "outputs": [],
   "source": [
    "# Dependencies\n",
    "import pandas as pd\n",
    "import tweepy\n",
    "import json\n",
    "import numpy as np\n",
    "from datetime import datetime\n",
    "import matplotlib.pyplot as plt\n",
    "from config import consumer_key, consumer_secret, access_token, access_token_secret\n",
    "\n",
    "\n",
    "# Setup Tweepy API Authentication\n",
    "auth = tweepy.OAuthHandler(consumer_key, consumer_secret)\n",
    "auth.set_access_token(access_token, access_token_secret)\n",
    "api = tweepy.API(auth, parser=tweepy.parsers.JSONParser())"
   ]
  },
  {
   "cell_type": "code",
   "execution_count": 16,
   "metadata": {},
   "outputs": [
    {
     "name": "stdout",
     "output_type": "stream",
     "text": [
      "#fortnite\n",
      "Avg. Seconds Between Tweets: 1.2857142857142858\n",
      "#leagueoflegends\n",
      "Avg. Seconds Between Tweets: 22.214285714285715\n",
      "#hearthstone\n",
      "Avg. Seconds Between Tweets: 239.5\n",
      "#irl\n",
      "Avg. Seconds Between Tweets: 215.78571428571428\n",
      "#worldofwarcraft\n",
      "Avg. Seconds Between Tweets: 74.78571428571429\n",
      "#rainbow6siege\n",
      "Avg. Seconds Between Tweets: 180.07142857142858\n",
      "#callofduty\n",
      "Avg. Seconds Between Tweets: 32.07142857142857\n",
      "#destiny2\n",
      "Avg. Seconds Between Tweets: 16.5\n",
      "#grandtheftautov\n",
      "Avg. Seconds Between Tweets: 406.64285714285717\n",
      "#overwatch\n",
      "Avg. Seconds Between Tweets: 21.857142857142858\n"
     ]
    }
   ],
   "source": [
    "# Target Hashtags\n",
    "target_tags = [\"#fortnite\", \"#leagueoflegends\", \"#hearthstone\", \"#irl\", '#worldofwarcraft', '#rainbow6siege', \n",
    "              \"#callofduty\", \"#destiny2\", \"#grandtheftautov\", \"#overwatch\"]\n",
    "time_between_tweets = []\n",
    "\n",
    "\n",
    "# Loop through each hashtag\n",
    "for tag in target_tags:\n",
    "    \n",
    "    # Create array to record all date-times of tweets\n",
    "    tweet_times = []\n",
    "\n",
    "    # Get 500 tweets on targetted tag\n",
    "    public_tweets = api.search(tag, rpp=500)\n",
    "    print(tag)\n",
    "\n",
    "    # Loop through all tweets\n",
    "    for tweet in public_tweets[\"statuses\"]:\n",
    "\n",
    "        # Store all tweet times into the array\n",
    "        tweet_times.append(tweet[\"created_at\"])\n",
    "    \n",
    "    # Convert all tweet times into datetime objects\n",
    "    tweet_time_objects = []\n",
    "\n",
    "    # Add each datetime object into the array\n",
    "    for x in range(len(tweet_times)):\n",
    "        tweet_datetime = datetime.strptime(tweet_times[x], \"%a %b %d %H:%M:%S %z %Y\")\n",
    "        tweet_time_objects.append(tweet_datetime)\n",
    "\n",
    "    # Calculate the time between tweets\n",
    "    time_in_between = []\n",
    "\n",
    "    # Calculate the time in between each tweet\n",
    "    for x in range(len(tweet_time_objects)-1):\n",
    "        secs_apart = ((tweet_time_objects[x] - tweet_time_objects[x+1]).seconds) \n",
    "        time_in_between.append(secs_apart)\n",
    "        sec_tweets = np.mean(time_in_between)\n",
    "\n",
    "    # Seconds Between Tweets\n",
    "  \n",
    "    print(f\"Avg. Seconds Between Tweets: {sec_tweets}\")\n",
    "\n",
    "\n",
    "    \n"
   ]
  },
  {
   "cell_type": "code",
   "execution_count": null,
   "metadata": {},
   "outputs": [],
   "source": []
  }
 ],
 "metadata": {
  "anaconda-cloud": {},
  "kernelspec": {
   "display_name": "Python 3",
   "language": "python",
   "name": "python3"
  },
  "language_info": {
   "codemirror_mode": {
    "name": "ipython",
    "version": 3
   },
   "file_extension": ".py",
   "mimetype": "text/x-python",
   "name": "python",
   "nbconvert_exporter": "python",
   "pygments_lexer": "ipython3",
   "version": "3.6.5"
  },
  "varInspector": {
   "cols": {
    "lenName": 16,
    "lenType": 16,
    "lenVar": 40
   },
   "kernels_config": {
    "python": {
     "delete_cmd_postfix": "",
     "delete_cmd_prefix": "del ",
     "library": "var_list.py",
     "varRefreshCmd": "print(var_dic_list())"
    },
    "r": {
     "delete_cmd_postfix": ") ",
     "delete_cmd_prefix": "rm(",
     "library": "var_list.r",
     "varRefreshCmd": "cat(var_dic_list()) "
    }
   },
   "types_to_exclude": [
    "module",
    "function",
    "builtin_function_or_method",
    "instance",
    "_Feature"
   ],
   "window_display": false
  }
 },
 "nbformat": 4,
 "nbformat_minor": 1
}
